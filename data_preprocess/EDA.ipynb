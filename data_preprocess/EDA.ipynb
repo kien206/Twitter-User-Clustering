{
 "cells": [
  {
   "cell_type": "code",
   "execution_count": 1,
   "id": "75452c62-aa6e-44ce-8de1-7dae36b4c7c1",
   "metadata": {},
   "outputs": [],
   "source": [
    "import numpy as np\n",
    "import pandas as pd\n",
    "import matplotlib.pyplot as plt\n",
    "import seaborn as sns\n",
    "from sklearn.model_selection import train_test_split\n",
    "from sklearn.preprocessing import StandardScaler\n",
    "from sklearn.preprocessing import LabelEncoder"
   ]
  },
  {
   "cell_type": "code",
   "execution_count": 2,
   "id": "60a2f218-b12e-430b-9b65-7a7c1b0dd368",
   "metadata": {},
   "outputs": [],
   "source": [
    "from pyspark.sql import SparkSession\n",
    "from pyspark.sql.types import StructType, StructField, StringType, IntegerType"
   ]
  },
  {
   "cell_type": "code",
   "execution_count": 3,
   "id": "d4d6b963-fdb1-4b06-9c7e-9d50279dad7b",
   "metadata": {},
   "outputs": [
    {
     "name": "stderr",
     "output_type": "stream",
     "text": [
      "23/12/08 14:16:43 WARN NativeCodeLoader: Unable to load native-hadoop library for your platform... using builtin-java classes where applicable\n",
      "Setting default log level to \"WARN\".\n",
      "To adjust logging level use sc.setLogLevel(newLevel). For SparkR, use setLogLevel(newLevel).\n",
      "23/12/08 14:16:46 WARN Utils: Service 'SparkUI' could not bind on port 4040. Attempting port 4041.\n"
     ]
    }
   ],
   "source": [
    "##Configuration\n",
    "\n",
    "#config the connector jar file\n",
    "spark = (SparkSession.builder.appName(\"SimpleSparkJob\").master(\"spark://34.142.194.212:7077\")\n",
    "         .config(\"spark.jars\", \"/opt/spark/jars/gcs-connector-latest-hadoop2.jar\")\n",
    "         .config(\"spark.executor.memory\", \"2G\")  #excutor excute only 2G\n",
    "        .config(\"spark.driver.memory\",\"4G\") \n",
    "        .config(\"spark.executor.cores\",\"3\") #Cluster use only 3 cores to excute\n",
    "        .config(\"spark.python.worker.memory\",\"1G\") # each worker use 1G to excute\n",
    "        .config(\"spark.driver.maxResultSize\",\"3G\") #Maximum size of result is 3G\n",
    "        .config(\"spark.kryoserializer.buffer.max\",\"1024M\")\n",
    "         .getOrCreate())\n",
    "#config the credential to identify the google cloud hadoop file \n",
    "spark.conf.set(\"google.cloud.auth.service.account.json.keyfile\",\"/opt/spark/lucky-wall-393304-2a6a3df38253.json\")\n",
    "spark._jsc.hadoopConfiguration().set('fs.gs.impl', 'com.google.cloud.hadoop.fs.gcs.GoogleHadoopFileSystem')\n",
    "spark._jsc.hadoopConfiguration().set('fs.gs.auth.service.account.enable', 'true')\n",
    "\n",
    "## Connect to the file in Google Bucket with Spark\n",
    "\n",
    "\n",
    "# spark.show()\n",
    "\n",
    "# spark.stop # Ending spark job\n"
   ]
  },
  {
   "cell_type": "markdown",
   "id": "efda62be-1b8f-4137-ac69-ff3351fdd15a",
   "metadata": {},
   "source": [
    "## EDA"
   ]
  },
  {
   "cell_type": "code",
   "execution_count": 4,
   "id": "8f2a0c5b-7458-4635-b0b1-a87b771dd8f8",
   "metadata": {},
   "outputs": [
    {
     "name": "stderr",
     "output_type": "stream",
     "text": [
      "                                                                                \r"
     ]
    },
    {
     "name": "stdout",
     "output_type": "stream",
     "text": [
      "+--------------------+--------------------+-------------------+------------------+--------------------+------+-------------+--------------------+--------------------+----------+--------+\n",
      "|            username|          tweet_text| datetime_timestamp|          tweet_id|     discussion_link|images|video_preview|       user_location|    user_description|      date|    time|\n",
      "+--------------------+--------------------+-------------------+------------------+--------------------+------+-------------+--------------------+--------------------+----------+--------+\n",
      "|                   0|$QNT #QNT Communi...|2021-08-05 15:56:26|158836031181224018|https://twitter.c...|    []|           []|                 USA|#BTC $ETH \\n$QNT ...|2021-08-05|15:56:26|\n",
      "|                   0|@QNTMami Safe to ...|2021-11-26 17:14:11|146609917543097691|https://twitter.c...|    []|           []|                 USA|$QNT $HTR $LCX $C...|2021-11-26|17:14:11|\n",
      "|             0001337|@JackFarley96 Its...|2022-01-22 07:48:02|159052628733145591|https://twitter.c...|    []|           []|              SHA256|                    |2022-01-22|07:48:02|\n",
      "|               0012A|@BtcPadre Cantill...|2021-12-30 12:09:52|164257367032476738|https://twitter.c...|    []|           []|             #POW♻️ |#POW = e your own...|2021-12-30|12:09:52|\n",
      "|               0012A|@CerebralWisdom @...|2021-11-26 07:23:44|107679374667622220|https://twitter.c...|    []|           []|             #POW♻️ |#POW = e your own...|2021-11-26|07:23:44|\n",
      "|               0012A|@TomerStrolight @...|2021-12-17 22:13:08|163719306481582444|https://twitter.c...|    []|           []|             #POW♻️ |#POW = e your own...|2021-12-17|22:13:08|\n",
      "|               0012A|@giseleofficial W...|2021-10-29 12:57:43|194515707523310137|https://twitter.c...|    []|           []|             #POW♻️ |#POW = e your own...|2021-10-29|12:57:43|\n",
      "|               0012A|@jairbolsonaro Wh...|2021-10-18 13:14:23|136260419481465819|https://twitter.c...|    []|           []|             #POW♻️ |#POW = e your own...|2021-10-18|13:14:23|\n",
      "|               0012A|@saylor @mcuban C...|2021-10-19 04:40:36|110114444627067352|https://twitter.c...|    []|           []|             #POW♻️ |#POW = e your own...|2021-10-19|04:40:36|\n",
      "|               0012A|Meanwhile. El Sal...|2021-11-19 10:02:07|177832252807345200|https://twitter.c...|    []|           []|             #POW♻️ |#POW = e your own...|2021-11-19|10:02:07|\n",
      "|               0012A|Why not the conti...|2021-10-22 02:46:35|179539308664172996|https://twitter.c...|    []|           []|             #POW♻️ |#POW = e your own...|2021-10-22|02:46:35|\n",
      "|             010Coin|Good morning 010C...|2021-08-09 05:08:58|196246484920076980|https://twitter.c...|    []|           []|Rotterdam, Nederland|Shaping my future...|2021-08-09|05:08:58|\n",
      "|             0Godwin|#Bitcoin is ABCD ...|2021-06-23 16:12:47|100359383158074344|https://twitter.c...|    []|           []|CyptoStadt iOS St...|Think in #Bitcoin...|2021-06-23|16:12:47|\n",
      "|             0Godwin|@Cointelegraph Wa...|2021-07-02 09:28:46|121934400925038564|https://twitter.c...|    []|           []|CyptoStadt iOS St...|Think in #Bitcoin...|2021-07-02|09:28:46|\n",
      "|0Godwinshadowysup...|@THORChain arise ...|2021-07-26 03:45:42|197202112576436671|https://twitter.c...|    []|           []|21M Block 0101010...|          #Bitcoin  |2021-07-26|03:45:42|\n",
      "|0Godwinshadowysup...|@TheCryptoLark Te...|2021-07-30 20:38:04|158027585636293932|https://twitter.c...|    []|           []|21M Block 0101010...|          #Bitcoin  |2021-07-30|20:38:04|\n",
      "|0rang3enlightened...|BTC/XAF\\n\\nSorry ...|2023-01-07 21:54:44|183048844114611260|https://twitter.c...|    []|           []|Totalitarian supe...| 13%\\n\\nShitposti...|2023-01-07|21:54:44|\n",
      "|        0rangepilled|@MadMoneyOnCNBC @...|2021-08-19 08:36:03|181840348951661193|https://twitter.c...|    []|           []|Queensland, Austr...|Gen X. #Bitcoin i...|2021-08-19|08:36:03|\n",
      "|               0x146|@Dennis_Porter_ H...|2022-05-12 15:55:14|191954009951088378|https://twitter.c...|    []|           []|Scotland, United ...|pleb. Recently ca...|2022-05-12|15:55:14|\n",
      "|               0x146|Are you zooming o...|2022-09-13 12:49:27|119482467444981304|https://twitter.c...|    []|           []|Scotland, United ...|#bitcoinpleb. Rec...|2022-09-13|12:49:27|\n",
      "+--------------------+--------------------+-------------------+------------------+--------------------+------+-------------+--------------------+--------------------+----------+--------+\n",
      "only showing top 20 rows\n",
      "\n"
     ]
    }
   ],
   "source": [
    "path=f\"gs://it4043e-it5384/it4043e/it4043e_group7_problem1/final_preprocess\"\n",
    "tweet_final = spark.read \\\n",
    "    .format(\"parquet\") \\\n",
    "    .option(\"inferSchema\", \"true\") \\\n",
    "    .option(\"escape\", \"\\\"\") \\\n",
    "    .option(\"multiline\", \"true\") \\\n",
    "    .option(\"wholeFile\", \"true\") \\\n",
    ".load(path)\n",
    "tweet_final.show()"
   ]
  },
  {
   "cell_type": "code",
   "execution_count": 5,
   "id": "c61a12fc-1100-4cac-ad7e-8991c56643c6",
   "metadata": {},
   "outputs": [
    {
     "name": "stderr",
     "output_type": "stream",
     "text": [
      "                                                                                \r"
     ]
    }
   ],
   "source": [
    "df = tweet_final.toPandas()"
   ]
  },
  {
   "cell_type": "code",
   "execution_count": 6,
   "id": "47403983-cfab-49d2-8b75-dc25daf76ffe",
   "metadata": {},
   "outputs": [
    {
     "data": {
      "text/html": [
       "<div>\n",
       "<style scoped>\n",
       "    .dataframe tbody tr th:only-of-type {\n",
       "        vertical-align: middle;\n",
       "    }\n",
       "\n",
       "    .dataframe tbody tr th {\n",
       "        vertical-align: top;\n",
       "    }\n",
       "\n",
       "    .dataframe thead th {\n",
       "        text-align: right;\n",
       "    }\n",
       "</style>\n",
       "<table border=\"1\" class=\"dataframe\">\n",
       "  <thead>\n",
       "    <tr style=\"text-align: right;\">\n",
       "      <th></th>\n",
       "      <th>username</th>\n",
       "      <th>tweet_text</th>\n",
       "      <th>datetime_timestamp</th>\n",
       "      <th>tweet_id</th>\n",
       "      <th>discussion_link</th>\n",
       "      <th>images</th>\n",
       "      <th>video_preview</th>\n",
       "      <th>user_location</th>\n",
       "      <th>user_description</th>\n",
       "      <th>date</th>\n",
       "      <th>time</th>\n",
       "    </tr>\n",
       "  </thead>\n",
       "  <tbody>\n",
       "    <tr>\n",
       "      <th>0</th>\n",
       "      <td>0</td>\n",
       "      <td>$QNT #QNT Community #OVN is coming \\n\\n2.0.1 \\...</td>\n",
       "      <td>2021-08-05 15:56:26</td>\n",
       "      <td>158836031181224018</td>\n",
       "      <td>https://twitter.com/0/status/158836031181224018</td>\n",
       "      <td>[]</td>\n",
       "      <td>[]</td>\n",
       "      <td>USA</td>\n",
       "      <td>#BTC $ETH \\n$QNT $CHR $HTR $LCX $RSR $ALGO\\nNo...</td>\n",
       "      <td>2021-08-05</td>\n",
       "      <td>15:56:26</td>\n",
       "    </tr>\n",
       "    <tr>\n",
       "      <th>1</th>\n",
       "      <td>0</td>\n",
       "      <td>@QNTMami Safe to say?\\n\\nIn 2017 #BTC had a 20...</td>\n",
       "      <td>2021-11-26 17:14:11</td>\n",
       "      <td>146609917543097691</td>\n",
       "      <td>https://twitter.com/0/status/146609917543097691</td>\n",
       "      <td>[]</td>\n",
       "      <td>[]</td>\n",
       "      <td>USA</td>\n",
       "      <td>$QNT $HTR $LCX $CHR $ETH #BTC $RSR\\nNot Financ...</td>\n",
       "      <td>2021-11-26</td>\n",
       "      <td>17:14:11</td>\n",
       "    </tr>\n",
       "    <tr>\n",
       "      <th>2</th>\n",
       "      <td>0001337</td>\n",
       "      <td>@JackFarley96 Its so much more than high beta....</td>\n",
       "      <td>2022-01-22 07:48:02</td>\n",
       "      <td>159052628733145591</td>\n",
       "      <td>https://twitter.com/0001337/status/15905262873...</td>\n",
       "      <td>[]</td>\n",
       "      <td>[]</td>\n",
       "      <td>SHA256</td>\n",
       "      <td></td>\n",
       "      <td>2022-01-22</td>\n",
       "      <td>07:48:02</td>\n",
       "    </tr>\n",
       "    <tr>\n",
       "      <th>3</th>\n",
       "      <td>0012A</td>\n",
       "      <td>@BtcPadre Cantillion afflicted everything \\n\\n...</td>\n",
       "      <td>2021-12-30 12:09:52</td>\n",
       "      <td>164257367032476738</td>\n",
       "      <td>https://twitter.com/0012A/status/1642573670324...</td>\n",
       "      <td>[]</td>\n",
       "      <td>[]</td>\n",
       "      <td>#POW♻️</td>\n",
       "      <td>#POW = e your own ank = Type 1 civilization | ...</td>\n",
       "      <td>2021-12-30</td>\n",
       "      <td>12:09:52</td>\n",
       "    </tr>\n",
       "    <tr>\n",
       "      <th>4</th>\n",
       "      <td>0012A</td>\n",
       "      <td>@CerebralWisdom @akkaufman Just re read your c...</td>\n",
       "      <td>2021-11-26 07:23:44</td>\n",
       "      <td>107679374667622220</td>\n",
       "      <td>https://twitter.com/0012A/status/1076793746676...</td>\n",
       "      <td>[]</td>\n",
       "      <td>[]</td>\n",
       "      <td>#POW♻️</td>\n",
       "      <td>#POW = e your own ank = Type 1 civilization | ...</td>\n",
       "      <td>2021-11-26</td>\n",
       "      <td>07:23:44</td>\n",
       "    </tr>\n",
       "  </tbody>\n",
       "</table>\n",
       "</div>"
      ],
      "text/plain": [
       "  username                                         tweet_text  \\\n",
       "0        0  $QNT #QNT Community #OVN is coming \\n\\n2.0.1 \\...   \n",
       "1        0  @QNTMami Safe to say?\\n\\nIn 2017 #BTC had a 20...   \n",
       "2  0001337  @JackFarley96 Its so much more than high beta....   \n",
       "3    0012A  @BtcPadre Cantillion afflicted everything \\n\\n...   \n",
       "4    0012A  @CerebralWisdom @akkaufman Just re read your c...   \n",
       "\n",
       "    datetime_timestamp            tweet_id  \\\n",
       "0  2021-08-05 15:56:26  158836031181224018   \n",
       "1  2021-11-26 17:14:11  146609917543097691   \n",
       "2  2022-01-22 07:48:02  159052628733145591   \n",
       "3  2021-12-30 12:09:52  164257367032476738   \n",
       "4  2021-11-26 07:23:44  107679374667622220   \n",
       "\n",
       "                                     discussion_link images video_preview  \\\n",
       "0    https://twitter.com/0/status/158836031181224018     []            []   \n",
       "1    https://twitter.com/0/status/146609917543097691     []            []   \n",
       "2  https://twitter.com/0001337/status/15905262873...     []            []   \n",
       "3  https://twitter.com/0012A/status/1642573670324...     []            []   \n",
       "4  https://twitter.com/0012A/status/1076793746676...     []            []   \n",
       "\n",
       "  user_location                                   user_description  \\\n",
       "0           USA  #BTC $ETH \\n$QNT $CHR $HTR $LCX $RSR $ALGO\\nNo...   \n",
       "1           USA  $QNT $HTR $LCX $CHR $ETH #BTC $RSR\\nNot Financ...   \n",
       "2        SHA256                                                      \n",
       "3       #POW♻️   #POW = e your own ank = Type 1 civilization | ...   \n",
       "4       #POW♻️   #POW = e your own ank = Type 1 civilization | ...   \n",
       "\n",
       "         date      time  \n",
       "0  2021-08-05  15:56:26  \n",
       "1  2021-11-26  17:14:11  \n",
       "2  2022-01-22  07:48:02  \n",
       "3  2021-12-30  12:09:52  \n",
       "4  2021-11-26  07:23:44  "
      ]
     },
     "execution_count": 6,
     "metadata": {},
     "output_type": "execute_result"
    }
   ],
   "source": [
    "df.head()"
   ]
  },
  {
   "cell_type": "code",
   "execution_count": 7,
   "id": "f8c29f9a-c8ff-4836-a64c-2ae7d0c92d51",
   "metadata": {},
   "outputs": [
    {
     "data": {
      "text/plain": [
       "(2354815, 11)"
      ]
     },
     "execution_count": 7,
     "metadata": {},
     "output_type": "execute_result"
    }
   ],
   "source": [
    "df.shape"
   ]
  },
  {
   "cell_type": "code",
   "execution_count": 8,
   "id": "73595f57-713b-4fa0-87e0-a6a238df70f1",
   "metadata": {},
   "outputs": [
    {
     "data": {
      "text/plain": [
       "Index(['username', 'tweet_text', 'datetime_timestamp', 'tweet_id',\n",
       "       'discussion_link', 'images', 'video_preview', 'user_location',\n",
       "       'user_description', 'date', 'time'],\n",
       "      dtype='object')"
      ]
     },
     "execution_count": 8,
     "metadata": {},
     "output_type": "execute_result"
    }
   ],
   "source": [
    "df.columns"
   ]
  },
  {
   "cell_type": "code",
   "execution_count": 9,
   "id": "a2628fad-0b66-483f-95ef-7f9c670913bd",
   "metadata": {},
   "outputs": [
    {
     "data": {
      "text/html": [
       "<div>\n",
       "<style scoped>\n",
       "    .dataframe tbody tr th:only-of-type {\n",
       "        vertical-align: middle;\n",
       "    }\n",
       "\n",
       "    .dataframe tbody tr th {\n",
       "        vertical-align: top;\n",
       "    }\n",
       "\n",
       "    .dataframe thead th {\n",
       "        text-align: right;\n",
       "    }\n",
       "</style>\n",
       "<table border=\"1\" class=\"dataframe\">\n",
       "  <thead>\n",
       "    <tr style=\"text-align: right;\">\n",
       "      <th></th>\n",
       "      <th>tweet_id</th>\n",
       "    </tr>\n",
       "  </thead>\n",
       "  <tbody>\n",
       "    <tr>\n",
       "      <th>count</th>\n",
       "      <td>2.354815e+06</td>\n",
       "    </tr>\n",
       "    <tr>\n",
       "      <th>mean</th>\n",
       "      <td>1.555812e+17</td>\n",
       "    </tr>\n",
       "    <tr>\n",
       "      <th>std</th>\n",
       "      <td>9.030869e+16</td>\n",
       "    </tr>\n",
       "    <tr>\n",
       "      <th>min</th>\n",
       "      <td>1.000000e+17</td>\n",
       "    </tr>\n",
       "    <tr>\n",
       "      <th>25%</th>\n",
       "      <td>1.251213e+17</td>\n",
       "    </tr>\n",
       "    <tr>\n",
       "      <th>50%</th>\n",
       "      <td>1.502086e+17</td>\n",
       "    </tr>\n",
       "    <tr>\n",
       "      <th>75%</th>\n",
       "      <td>1.753396e+17</td>\n",
       "    </tr>\n",
       "    <tr>\n",
       "      <th>max</th>\n",
       "      <td>1.723853e+18</td>\n",
       "    </tr>\n",
       "  </tbody>\n",
       "</table>\n",
       "</div>"
      ],
      "text/plain": [
       "           tweet_id\n",
       "count  2.354815e+06\n",
       "mean   1.555812e+17\n",
       "std    9.030869e+16\n",
       "min    1.000000e+17\n",
       "25%    1.251213e+17\n",
       "50%    1.502086e+17\n",
       "75%    1.753396e+17\n",
       "max    1.723853e+18"
      ]
     },
     "execution_count": 9,
     "metadata": {},
     "output_type": "execute_result"
    }
   ],
   "source": [
    "df.describe()"
   ]
  },
  {
   "cell_type": "code",
   "execution_count": 10,
   "id": "3b3bb38f-60e3-4f49-b706-91593cb57502",
   "metadata": {},
   "outputs": [
    {
     "name": "stdout",
     "output_type": "stream",
     "text": [
      "<class 'pandas.core.frame.DataFrame'>\n",
      "RangeIndex: 2354815 entries, 0 to 2354814\n",
      "Data columns (total 11 columns):\n",
      " #   Column              Dtype \n",
      "---  ------              ----- \n",
      " 0   username            object\n",
      " 1   tweet_text          object\n",
      " 2   datetime_timestamp  object\n",
      " 3   tweet_id            int64 \n",
      " 4   discussion_link     object\n",
      " 5   images              object\n",
      " 6   video_preview       object\n",
      " 7   user_location       object\n",
      " 8   user_description    object\n",
      " 9   date                object\n",
      " 10  time                object\n",
      "dtypes: int64(1), object(10)\n",
      "memory usage: 197.6+ MB\n"
     ]
    }
   ],
   "source": [
    "df.info()"
   ]
  },
  {
   "cell_type": "code",
   "execution_count": 11,
   "id": "c6e8273b-ec6e-478a-824c-cc204269424a",
   "metadata": {},
   "outputs": [
    {
     "data": {
      "text/plain": [
       "username                 6798\n",
       "tweet_text                  1\n",
       "datetime_timestamp          0\n",
       "tweet_id                    0\n",
       "discussion_link            63\n",
       "images                      0\n",
       "video_preview               0\n",
       "user_location         1240033\n",
       "user_description       368521\n",
       "date                        0\n",
       "time                        3\n",
       "dtype: int64"
      ]
     },
     "execution_count": 11,
     "metadata": {},
     "output_type": "execute_result"
    }
   ],
   "source": [
    "df.isna().sum()"
   ]
  },
  {
   "cell_type": "markdown",
   "id": "68dddce1-9adb-4c36-a135-a4dcd3669a44",
   "metadata": {},
   "source": [
    "### Split datetime"
   ]
  },
  {
   "cell_type": "code",
   "execution_count": 13,
   "id": "e52250a8-f360-483b-9e2d-2e16d59ca846",
   "metadata": {},
   "outputs": [],
   "source": [
    "df['date'] = pd.to_datetime(df['date'], errors='coerce')\n",
    "df['time'] = pd.to_datetime(df['time'], errors='coerce')\n",
    "df = df.dropna(subset = ['date','time'])"
   ]
  },
  {
   "cell_type": "code",
   "execution_count": 14,
   "id": "25f791cf-9d48-458b-91a2-451b4c7894e6",
   "metadata": {},
   "outputs": [
    {
     "name": "stderr",
     "output_type": "stream",
     "text": [
      "/tmp/ipykernel_955165/3808089464.py:1: SettingWithCopyWarning: \n",
      "A value is trying to be set on a copy of a slice from a DataFrame.\n",
      "Try using .loc[row_indexer,col_indexer] = value instead\n",
      "\n",
      "See the caveats in the documentation: https://pandas.pydata.org/pandas-docs/stable/user_guide/indexing.html#returning-a-view-versus-a-copy\n",
      "  df['year'] = df['date'].dt.year\n",
      "/tmp/ipykernel_955165/3808089464.py:2: SettingWithCopyWarning: \n",
      "A value is trying to be set on a copy of a slice from a DataFrame.\n",
      "Try using .loc[row_indexer,col_indexer] = value instead\n",
      "\n",
      "See the caveats in the documentation: https://pandas.pydata.org/pandas-docs/stable/user_guide/indexing.html#returning-a-view-versus-a-copy\n",
      "  df['month'] = df['date'].dt.month\n",
      "/tmp/ipykernel_955165/3808089464.py:3: SettingWithCopyWarning: \n",
      "A value is trying to be set on a copy of a slice from a DataFrame.\n",
      "Try using .loc[row_indexer,col_indexer] = value instead\n",
      "\n",
      "See the caveats in the documentation: https://pandas.pydata.org/pandas-docs/stable/user_guide/indexing.html#returning-a-view-versus-a-copy\n",
      "  df['day'] = df['date'].dt.day\n"
     ]
    }
   ],
   "source": [
    "df['year'] = df['date'].dt.year\n",
    "df['month'] = df['date'].dt.month\n",
    "df['day'] = df['date'].dt.day"
   ]
  },
  {
   "cell_type": "code",
   "execution_count": 15,
   "id": "e91311d8-57f7-43b6-ab5e-801fda74efd1",
   "metadata": {},
   "outputs": [
    {
     "name": "stdout",
     "output_type": "stream",
     "text": [
      "<class 'pandas.core.frame.DataFrame'>\n",
      "Int64Index: 2354775 entries, 0 to 2354814\n",
      "Data columns (total 14 columns):\n",
      " #   Column              Dtype         \n",
      "---  ------              -----         \n",
      " 0   username            object        \n",
      " 1   tweet_text          object        \n",
      " 2   datetime_timestamp  object        \n",
      " 3   tweet_id            int64         \n",
      " 4   discussion_link     object        \n",
      " 5   images              object        \n",
      " 6   video_preview       object        \n",
      " 7   user_location       object        \n",
      " 8   user_description    object        \n",
      " 9   date                datetime64[ns]\n",
      " 10  time                datetime64[ns]\n",
      " 11  year                int64         \n",
      " 12  month               int64         \n",
      " 13  day                 int64         \n",
      "dtypes: datetime64[ns](2), int64(4), object(8)\n",
      "memory usage: 269.5+ MB\n"
     ]
    }
   ],
   "source": [
    "df.info()"
   ]
  },
  {
   "cell_type": "code",
   "execution_count": 16,
   "id": "5d2050c7-75ca-49f3-8003-b32ac101a7f4",
   "metadata": {},
   "outputs": [
    {
     "data": {
      "text/html": [
       "<div>\n",
       "<style scoped>\n",
       "    .dataframe tbody tr th:only-of-type {\n",
       "        vertical-align: middle;\n",
       "    }\n",
       "\n",
       "    .dataframe tbody tr th {\n",
       "        vertical-align: top;\n",
       "    }\n",
       "\n",
       "    .dataframe thead th {\n",
       "        text-align: right;\n",
       "    }\n",
       "</style>\n",
       "<table border=\"1\" class=\"dataframe\">\n",
       "  <thead>\n",
       "    <tr style=\"text-align: right;\">\n",
       "      <th></th>\n",
       "      <th>username</th>\n",
       "      <th>tweet_text</th>\n",
       "      <th>datetime_timestamp</th>\n",
       "      <th>tweet_id</th>\n",
       "      <th>discussion_link</th>\n",
       "      <th>images</th>\n",
       "      <th>video_preview</th>\n",
       "      <th>user_location</th>\n",
       "      <th>user_description</th>\n",
       "      <th>date</th>\n",
       "      <th>time</th>\n",
       "      <th>year</th>\n",
       "      <th>month</th>\n",
       "      <th>day</th>\n",
       "    </tr>\n",
       "  </thead>\n",
       "  <tbody>\n",
       "    <tr>\n",
       "      <th>0</th>\n",
       "      <td>0</td>\n",
       "      <td>$QNT #QNT Community #OVN is coming \\n\\n2.0.1 \\...</td>\n",
       "      <td>2021-08-05 15:56:26</td>\n",
       "      <td>158836031181224018</td>\n",
       "      <td>https://twitter.com/0/status/158836031181224018</td>\n",
       "      <td>[]</td>\n",
       "      <td>[]</td>\n",
       "      <td>USA</td>\n",
       "      <td>#BTC $ETH \\n$QNT $CHR $HTR $LCX $RSR $ALGO\\nNo...</td>\n",
       "      <td>2021-08-05</td>\n",
       "      <td>2023-12-08 15:56:26</td>\n",
       "      <td>2021</td>\n",
       "      <td>8</td>\n",
       "      <td>5</td>\n",
       "    </tr>\n",
       "    <tr>\n",
       "      <th>1</th>\n",
       "      <td>0</td>\n",
       "      <td>@QNTMami Safe to say?\\n\\nIn 2017 #BTC had a 20...</td>\n",
       "      <td>2021-11-26 17:14:11</td>\n",
       "      <td>146609917543097691</td>\n",
       "      <td>https://twitter.com/0/status/146609917543097691</td>\n",
       "      <td>[]</td>\n",
       "      <td>[]</td>\n",
       "      <td>USA</td>\n",
       "      <td>$QNT $HTR $LCX $CHR $ETH #BTC $RSR\\nNot Financ...</td>\n",
       "      <td>2021-11-26</td>\n",
       "      <td>2023-12-08 17:14:11</td>\n",
       "      <td>2021</td>\n",
       "      <td>11</td>\n",
       "      <td>26</td>\n",
       "    </tr>\n",
       "    <tr>\n",
       "      <th>3</th>\n",
       "      <td>0012A</td>\n",
       "      <td>@BtcPadre Cantillion afflicted everything \\n\\n...</td>\n",
       "      <td>2021-12-30 12:09:52</td>\n",
       "      <td>164257367032476738</td>\n",
       "      <td>https://twitter.com/0012A/status/1642573670324...</td>\n",
       "      <td>[]</td>\n",
       "      <td>[]</td>\n",
       "      <td>#POW♻️</td>\n",
       "      <td>#POW = e your own ank = Type 1 civilization | ...</td>\n",
       "      <td>2021-12-30</td>\n",
       "      <td>2023-12-08 12:09:52</td>\n",
       "      <td>2021</td>\n",
       "      <td>12</td>\n",
       "      <td>30</td>\n",
       "    </tr>\n",
       "    <tr>\n",
       "      <th>4</th>\n",
       "      <td>0012A</td>\n",
       "      <td>@CerebralWisdom @akkaufman Just re read your c...</td>\n",
       "      <td>2021-11-26 07:23:44</td>\n",
       "      <td>107679374667622220</td>\n",
       "      <td>https://twitter.com/0012A/status/1076793746676...</td>\n",
       "      <td>[]</td>\n",
       "      <td>[]</td>\n",
       "      <td>#POW♻️</td>\n",
       "      <td>#POW = e your own ank = Type 1 civilization | ...</td>\n",
       "      <td>2021-11-26</td>\n",
       "      <td>2023-12-08 07:23:44</td>\n",
       "      <td>2021</td>\n",
       "      <td>11</td>\n",
       "      <td>26</td>\n",
       "    </tr>\n",
       "    <tr>\n",
       "      <th>5</th>\n",
       "      <td>0012A</td>\n",
       "      <td>@TomerStrolight @disclosetv #bitcoin legal ten...</td>\n",
       "      <td>2021-12-17 22:13:08</td>\n",
       "      <td>163719306481582444</td>\n",
       "      <td>https://twitter.com/0012A/status/1637193064815...</td>\n",
       "      <td>[]</td>\n",
       "      <td>[]</td>\n",
       "      <td>#POW♻️</td>\n",
       "      <td>#POW = e your own ank = Type 1 civilization | ...</td>\n",
       "      <td>2021-12-17</td>\n",
       "      <td>2023-12-08 22:13:08</td>\n",
       "      <td>2021</td>\n",
       "      <td>12</td>\n",
       "      <td>17</td>\n",
       "    </tr>\n",
       "  </tbody>\n",
       "</table>\n",
       "</div>"
      ],
      "text/plain": [
       "  username                                         tweet_text  \\\n",
       "0        0  $QNT #QNT Community #OVN is coming \\n\\n2.0.1 \\...   \n",
       "1        0  @QNTMami Safe to say?\\n\\nIn 2017 #BTC had a 20...   \n",
       "3    0012A  @BtcPadre Cantillion afflicted everything \\n\\n...   \n",
       "4    0012A  @CerebralWisdom @akkaufman Just re read your c...   \n",
       "5    0012A  @TomerStrolight @disclosetv #bitcoin legal ten...   \n",
       "\n",
       "    datetime_timestamp            tweet_id  \\\n",
       "0  2021-08-05 15:56:26  158836031181224018   \n",
       "1  2021-11-26 17:14:11  146609917543097691   \n",
       "3  2021-12-30 12:09:52  164257367032476738   \n",
       "4  2021-11-26 07:23:44  107679374667622220   \n",
       "5  2021-12-17 22:13:08  163719306481582444   \n",
       "\n",
       "                                     discussion_link images video_preview  \\\n",
       "0    https://twitter.com/0/status/158836031181224018     []            []   \n",
       "1    https://twitter.com/0/status/146609917543097691     []            []   \n",
       "3  https://twitter.com/0012A/status/1642573670324...     []            []   \n",
       "4  https://twitter.com/0012A/status/1076793746676...     []            []   \n",
       "5  https://twitter.com/0012A/status/1637193064815...     []            []   \n",
       "\n",
       "  user_location                                   user_description       date  \\\n",
       "0           USA  #BTC $ETH \\n$QNT $CHR $HTR $LCX $RSR $ALGO\\nNo... 2021-08-05   \n",
       "1           USA  $QNT $HTR $LCX $CHR $ETH #BTC $RSR\\nNot Financ... 2021-11-26   \n",
       "3       #POW♻️   #POW = e your own ank = Type 1 civilization | ... 2021-12-30   \n",
       "4       #POW♻️   #POW = e your own ank = Type 1 civilization | ... 2021-11-26   \n",
       "5       #POW♻️   #POW = e your own ank = Type 1 civilization | ... 2021-12-17   \n",
       "\n",
       "                 time  year  month  day  \n",
       "0 2023-12-08 15:56:26  2021      8    5  \n",
       "1 2023-12-08 17:14:11  2021     11   26  \n",
       "3 2023-12-08 12:09:52  2021     12   30  \n",
       "4 2023-12-08 07:23:44  2021     11   26  \n",
       "5 2023-12-08 22:13:08  2021     12   17  "
      ]
     },
     "execution_count": 16,
     "metadata": {},
     "output_type": "execute_result"
    }
   ],
   "source": [
    "df21 = df[df['year'] == 2021]\n",
    "df21.head()"
   ]
  },
  {
   "cell_type": "code",
   "execution_count": 31,
   "id": "75dad28f-5ab0-40dd-9aa7-d97680445289",
   "metadata": {},
   "outputs": [
    {
     "data": {
      "text/html": [
       "<div>\n",
       "<style scoped>\n",
       "    .dataframe tbody tr th:only-of-type {\n",
       "        vertical-align: middle;\n",
       "    }\n",
       "\n",
       "    .dataframe tbody tr th {\n",
       "        vertical-align: top;\n",
       "    }\n",
       "\n",
       "    .dataframe thead th {\n",
       "        text-align: right;\n",
       "    }\n",
       "</style>\n",
       "<table border=\"1\" class=\"dataframe\">\n",
       "  <thead>\n",
       "    <tr style=\"text-align: right;\">\n",
       "      <th></th>\n",
       "      <th>username</th>\n",
       "      <th>tweet_text</th>\n",
       "      <th>datetime_timestamp</th>\n",
       "      <th>tweet_id</th>\n",
       "      <th>discussion_link</th>\n",
       "      <th>images</th>\n",
       "      <th>video_preview</th>\n",
       "      <th>user_location</th>\n",
       "      <th>user_description</th>\n",
       "      <th>date</th>\n",
       "      <th>time</th>\n",
       "      <th>year</th>\n",
       "      <th>month</th>\n",
       "      <th>day</th>\n",
       "    </tr>\n",
       "  </thead>\n",
       "  <tbody>\n",
       "    <tr>\n",
       "      <th>2</th>\n",
       "      <td>0001337</td>\n",
       "      <td>@JackFarley96 Its so much more than high beta....</td>\n",
       "      <td>2022-01-22 07:48:02</td>\n",
       "      <td>159052628733145591</td>\n",
       "      <td>https://twitter.com/0001337/status/15905262873...</td>\n",
       "      <td>[]</td>\n",
       "      <td>[]</td>\n",
       "      <td>SHA256</td>\n",
       "      <td></td>\n",
       "      <td>2022-01-22</td>\n",
       "      <td>2023-12-08 07:48:02</td>\n",
       "      <td>2022</td>\n",
       "      <td>1</td>\n",
       "      <td>22</td>\n",
       "    </tr>\n",
       "    <tr>\n",
       "      <th>18</th>\n",
       "      <td>0x146</td>\n",
       "      <td>@Dennis_Porter_ He was right though, the bigge...</td>\n",
       "      <td>2022-05-12 15:55:14</td>\n",
       "      <td>191954009951088378</td>\n",
       "      <td>https://twitter.com/0x146/status/1919540099510...</td>\n",
       "      <td>[]</td>\n",
       "      <td>[]</td>\n",
       "      <td>Scotland, United Kingdom</td>\n",
       "      <td>pleb. Recently called a \"Financially illiterat...</td>\n",
       "      <td>2022-05-12</td>\n",
       "      <td>2023-12-08 15:55:14</td>\n",
       "      <td>2022</td>\n",
       "      <td>5</td>\n",
       "      <td>12</td>\n",
       "    </tr>\n",
       "    <tr>\n",
       "      <th>19</th>\n",
       "      <td>0x146</td>\n",
       "      <td>Are you zooming out anon? On panic selling you...</td>\n",
       "      <td>2022-09-13 12:49:27</td>\n",
       "      <td>119482467444981304</td>\n",
       "      <td>https://twitter.com/0x146/status/1194824674449...</td>\n",
       "      <td>[]</td>\n",
       "      <td>[]</td>\n",
       "      <td>Scotland, United Kingdom</td>\n",
       "      <td>#bitcoinpleb. Recently called a \"Financially i...</td>\n",
       "      <td>2022-09-13</td>\n",
       "      <td>2023-12-08 12:49:27</td>\n",
       "      <td>2022</td>\n",
       "      <td>9</td>\n",
       "      <td>13</td>\n",
       "    </tr>\n",
       "    <tr>\n",
       "      <th>20</th>\n",
       "      <td>0x146</td>\n",
       "      <td>What do my fellow #bitcoin plebs recognise more?</td>\n",
       "      <td>2022-10-12 07:54:03</td>\n",
       "      <td>111047491791989911</td>\n",
       "      <td>https://twitter.com/0x146/status/1110474917919...</td>\n",
       "      <td>[]</td>\n",
       "      <td>[]</td>\n",
       "      <td>Scotland, United Kingdom</td>\n",
       "      <td>#bitcoinpleb. Recently called a \"Financially i...</td>\n",
       "      <td>2022-10-12</td>\n",
       "      <td>2023-12-08 07:54:03</td>\n",
       "      <td>2022</td>\n",
       "      <td>10</td>\n",
       "      <td>12</td>\n",
       "    </tr>\n",
       "    <tr>\n",
       "      <th>21</th>\n",
       "      <td>0x146gfy</td>\n",
       "      <td>Average 3.5k #bitcoin leaving exchanges every ...</td>\n",
       "      <td>2022-11-13 23:20:47</td>\n",
       "      <td>165486003459207226</td>\n",
       "      <td>https://twitter.com/0x146gfy/status/1654860034...</td>\n",
       "      <td>[]</td>\n",
       "      <td>[]</td>\n",
       "      <td>Scotland, United Kingdom</td>\n",
       "      <td>#bitcoinpleb, Proud member of the class of 21....</td>\n",
       "      <td>2022-11-13</td>\n",
       "      <td>2023-12-08 23:20:47</td>\n",
       "      <td>2022</td>\n",
       "      <td>11</td>\n",
       "      <td>13</td>\n",
       "    </tr>\n",
       "  </tbody>\n",
       "</table>\n",
       "</div>"
      ],
      "text/plain": [
       "    username                                         tweet_text  \\\n",
       "2    0001337  @JackFarley96 Its so much more than high beta....   \n",
       "18     0x146  @Dennis_Porter_ He was right though, the bigge...   \n",
       "19     0x146  Are you zooming out anon? On panic selling you...   \n",
       "20     0x146   What do my fellow #bitcoin plebs recognise more?   \n",
       "21  0x146gfy  Average 3.5k #bitcoin leaving exchanges every ...   \n",
       "\n",
       "     datetime_timestamp            tweet_id  \\\n",
       "2   2022-01-22 07:48:02  159052628733145591   \n",
       "18  2022-05-12 15:55:14  191954009951088378   \n",
       "19  2022-09-13 12:49:27  119482467444981304   \n",
       "20  2022-10-12 07:54:03  111047491791989911   \n",
       "21  2022-11-13 23:20:47  165486003459207226   \n",
       "\n",
       "                                      discussion_link images video_preview  \\\n",
       "2   https://twitter.com/0001337/status/15905262873...     []            []   \n",
       "18  https://twitter.com/0x146/status/1919540099510...     []            []   \n",
       "19  https://twitter.com/0x146/status/1194824674449...     []            []   \n",
       "20  https://twitter.com/0x146/status/1110474917919...     []            []   \n",
       "21  https://twitter.com/0x146gfy/status/1654860034...     []            []   \n",
       "\n",
       "               user_location  \\\n",
       "2                     SHA256   \n",
       "18  Scotland, United Kingdom   \n",
       "19  Scotland, United Kingdom   \n",
       "20  Scotland, United Kingdom   \n",
       "21  Scotland, United Kingdom   \n",
       "\n",
       "                                     user_description       date  \\\n",
       "2                                                     2022-01-22   \n",
       "18  pleb. Recently called a \"Financially illiterat... 2022-05-12   \n",
       "19  #bitcoinpleb. Recently called a \"Financially i... 2022-09-13   \n",
       "20  #bitcoinpleb. Recently called a \"Financially i... 2022-10-12   \n",
       "21  #bitcoinpleb, Proud member of the class of 21.... 2022-11-13   \n",
       "\n",
       "                  time  year  month  day  \n",
       "2  2023-12-08 07:48:02  2022      1   22  \n",
       "18 2023-12-08 15:55:14  2022      5   12  \n",
       "19 2023-12-08 12:49:27  2022      9   13  \n",
       "20 2023-12-08 07:54:03  2022     10   12  \n",
       "21 2023-12-08 23:20:47  2022     11   13  "
      ]
     },
     "execution_count": 31,
     "metadata": {},
     "output_type": "execute_result"
    }
   ],
   "source": [
    "df22 = df[df['year'] == 2022]\n",
    "df22.head()"
   ]
  },
  {
   "cell_type": "code",
   "execution_count": 18,
   "id": "58e83793-6d35-4860-94e7-ec712903c937",
   "metadata": {},
   "outputs": [
    {
     "data": {
      "text/html": [
       "<div>\n",
       "<style scoped>\n",
       "    .dataframe tbody tr th:only-of-type {\n",
       "        vertical-align: middle;\n",
       "    }\n",
       "\n",
       "    .dataframe tbody tr th {\n",
       "        vertical-align: top;\n",
       "    }\n",
       "\n",
       "    .dataframe thead th {\n",
       "        text-align: right;\n",
       "    }\n",
       "</style>\n",
       "<table border=\"1\" class=\"dataframe\">\n",
       "  <thead>\n",
       "    <tr style=\"text-align: right;\">\n",
       "      <th></th>\n",
       "      <th>username</th>\n",
       "      <th>tweet_text</th>\n",
       "      <th>datetime_timestamp</th>\n",
       "      <th>tweet_id</th>\n",
       "      <th>discussion_link</th>\n",
       "      <th>images</th>\n",
       "      <th>video_preview</th>\n",
       "      <th>user_location</th>\n",
       "      <th>user_description</th>\n",
       "      <th>date</th>\n",
       "      <th>time</th>\n",
       "      <th>year</th>\n",
       "      <th>month</th>\n",
       "      <th>day</th>\n",
       "    </tr>\n",
       "  </thead>\n",
       "  <tbody>\n",
       "    <tr>\n",
       "      <th>16</th>\n",
       "      <td>0rang3enlightenedmultichainevangelist</td>\n",
       "      <td>BTC/XAF\\n\\nSorry macron\\n\\n#Bitcoin https://t....</td>\n",
       "      <td>2023-01-07 21:54:44</td>\n",
       "      <td>183048844114611260</td>\n",
       "      <td>https://twitter.com/0rang3enlightenedmultichai...</td>\n",
       "      <td>[]</td>\n",
       "      <td>[]</td>\n",
       "      <td>Totalitarian super state</td>\n",
       "      <td>13%\\n\\nShitposting from a Nokia 3310 via star...</td>\n",
       "      <td>2023-01-07</td>\n",
       "      <td>2023-12-08 21:54:44</td>\n",
       "      <td>2023</td>\n",
       "      <td>1</td>\n",
       "      <td>7</td>\n",
       "    </tr>\n",
       "    <tr>\n",
       "      <th>45</th>\n",
       "      <td>0xNy0m0tusernameorg</td>\n",
       "      <td>@BonkCoin_ I like this project, from the very ...</td>\n",
       "      <td>2023-01-07 04:15:01</td>\n",
       "      <td>183164342294794425</td>\n",
       "      <td>https://twitter.com/0xNy0m0tusernameorg/status...</td>\n",
       "      <td>[]</td>\n",
       "      <td>[]</td>\n",
       "      <td>Bandung Wetan, Indonesia</td>\n",
       "      <td>0xabu</td>\n",
       "      <td>2023-01-07</td>\n",
       "      <td>2023-12-08 04:15:01</td>\n",
       "      <td>2023</td>\n",
       "      <td>1</td>\n",
       "      <td>7</td>\n",
       "    </tr>\n",
       "    <tr>\n",
       "      <th>75</th>\n",
       "      <td>0xUpdate</td>\n",
       "      <td>Weekly #Crypto performances. \\n1. #Bitcoin-2.0...</td>\n",
       "      <td>2023-01-09 12:35:06</td>\n",
       "      <td>102502893726117551</td>\n",
       "      <td>https://twitter.com/0xUpdate/status/1025028937...</td>\n",
       "      <td>[]</td>\n",
       "      <td>[]</td>\n",
       "      <td>Cryptocurrency &amp; NFTs</td>\n",
       "      <td>Follow 0x Update To Get All The Crypto Update,...</td>\n",
       "      <td>2023-01-09</td>\n",
       "      <td>2023-12-08 12:35:06</td>\n",
       "      <td>2023</td>\n",
       "      <td>1</td>\n",
       "      <td>9</td>\n",
       "    </tr>\n",
       "    <tr>\n",
       "      <th>84</th>\n",
       "      <td>0xYannn</td>\n",
       "      <td>While Im only about to start DCA some coins fr...</td>\n",
       "      <td>2023-01-09 15:42:21</td>\n",
       "      <td>113254008423879802</td>\n",
       "      <td>https://twitter.com/0xYannn/status/11325400842...</td>\n",
       "      <td>[]</td>\n",
       "      <td>[]</td>\n",
       "      <td>Melbourne, Victoria</td>\n",
       "      <td>Former banker, cyclical investor, defi player,...</td>\n",
       "      <td>2023-01-09</td>\n",
       "      <td>2023-12-08 15:42:21</td>\n",
       "      <td>2023</td>\n",
       "      <td>1</td>\n",
       "      <td>9</td>\n",
       "    </tr>\n",
       "    <tr>\n",
       "      <th>103</th>\n",
       "      <td>100XCryptoPromoter</td>\n",
       "      <td>new big project join it #RealYield  #ICO #CRYP...</td>\n",
       "      <td>2023-01-09 15:30:43</td>\n",
       "      <td>120306674631087584</td>\n",
       "      <td>https://twitter.com/100XCryptoPromoter/status/...</td>\n",
       "      <td>[]</td>\n",
       "      <td>[]</td>\n",
       "      <td>Waziristan</td>\n",
       "      <td>#BlueMove and #MOVErs</td>\n",
       "      <td>2023-01-09</td>\n",
       "      <td>2023-12-08 15:30:43</td>\n",
       "      <td>2023</td>\n",
       "      <td>1</td>\n",
       "      <td>9</td>\n",
       "    </tr>\n",
       "  </tbody>\n",
       "</table>\n",
       "</div>"
      ],
      "text/plain": [
       "                                  username  \\\n",
       "16   0rang3enlightenedmultichainevangelist   \n",
       "45                     0xNy0m0tusernameorg   \n",
       "75                                0xUpdate   \n",
       "84                                 0xYannn   \n",
       "103                     100XCryptoPromoter   \n",
       "\n",
       "                                            tweet_text   datetime_timestamp  \\\n",
       "16   BTC/XAF\\n\\nSorry macron\\n\\n#Bitcoin https://t....  2023-01-07 21:54:44   \n",
       "45   @BonkCoin_ I like this project, from the very ...  2023-01-07 04:15:01   \n",
       "75   Weekly #Crypto performances. \\n1. #Bitcoin-2.0...  2023-01-09 12:35:06   \n",
       "84   While Im only about to start DCA some coins fr...  2023-01-09 15:42:21   \n",
       "103  new big project join it #RealYield  #ICO #CRYP...  2023-01-09 15:30:43   \n",
       "\n",
       "               tweet_id                                    discussion_link  \\\n",
       "16   183048844114611260  https://twitter.com/0rang3enlightenedmultichai...   \n",
       "45   183164342294794425  https://twitter.com/0xNy0m0tusernameorg/status...   \n",
       "75   102502893726117551  https://twitter.com/0xUpdate/status/1025028937...   \n",
       "84   113254008423879802  https://twitter.com/0xYannn/status/11325400842...   \n",
       "103  120306674631087584  https://twitter.com/100XCryptoPromoter/status/...   \n",
       "\n",
       "    images video_preview             user_location  \\\n",
       "16      []            []  Totalitarian super state   \n",
       "45      []            []  Bandung Wetan, Indonesia   \n",
       "75      []            []     Cryptocurrency & NFTs   \n",
       "84      []            []       Melbourne, Victoria   \n",
       "103     []            []                Waziristan   \n",
       "\n",
       "                                      user_description       date  \\\n",
       "16    13%\\n\\nShitposting from a Nokia 3310 via star... 2023-01-07   \n",
       "45                                               0xabu 2023-01-07   \n",
       "75   Follow 0x Update To Get All The Crypto Update,... 2023-01-09   \n",
       "84   Former banker, cyclical investor, defi player,... 2023-01-09   \n",
       "103                          #BlueMove and #MOVErs     2023-01-09   \n",
       "\n",
       "                   time  year  month  day  \n",
       "16  2023-12-08 21:54:44  2023      1    7  \n",
       "45  2023-12-08 04:15:01  2023      1    7  \n",
       "75  2023-12-08 12:35:06  2023      1    9  \n",
       "84  2023-12-08 15:42:21  2023      1    9  \n",
       "103 2023-12-08 15:30:43  2023      1    9  "
      ]
     },
     "execution_count": 18,
     "metadata": {},
     "output_type": "execute_result"
    }
   ],
   "source": [
    "df23 = df[df['year'] == 2023]\n",
    "df23.head()"
   ]
  },
  {
   "cell_type": "markdown",
   "id": "626dd526-2a35-4587-8c31-593b4bd5608b",
   "metadata": {},
   "source": [
    "## Visualization"
   ]
  },
  {
   "cell_type": "markdown",
   "id": "cfa49257-82c3-460b-be6d-571c5f35a4d1",
   "metadata": {},
   "source": [
    "### Tweet/hour"
   ]
  },
  {
   "cell_type": "code",
   "execution_count": 21,
   "id": "32a3d6d3-3c8c-4d09-8f42-a7ef585420ca",
   "metadata": {},
   "outputs": [],
   "source": [
    "from tqdm import tqdm"
   ]
  },
  {
   "cell_type": "code",
   "execution_count": 22,
   "id": "a587b7af-d3af-4fb3-a2d8-e3065524ca37",
   "metadata": {},
   "outputs": [],
   "source": [
    "def get_hour(text):\n",
    "  hour_re = int(text.split(':')[0])\n",
    "  return hour_re"
   ]
  },
  {
   "cell_type": "code",
   "execution_count": 23,
   "id": "06a767b1-f80f-43bc-b8d8-64894b48b685",
   "metadata": {},
   "outputs": [
    {
     "name": "stderr",
     "output_type": "stream",
     "text": [
      "100%|████████████████████████████████████████████████████████████████████████████████████████████████████████████████████████████████████████████████████████████████████████████████████████████████████████████████████████████| 2354775/2354775 [00:01<00:00, 1940373.01it/s]"
     ]
    },
    {
     "name": "stdout",
     "output_type": "stream",
     "text": [
      "\n",
      " {0: 53010, 1: 48612, 2: 48832, 3: 48423, 4: 49369, 5: 53432, 6: 58815, 7: 70532, 8: 75994, 9: 80708, 10: 84192, 11: 95937, 12: 108504, 13: 125787, 14: 137244, 15: 140983, 16: 144044, 17: 145555, 18: 149642, 19: 142489, 20: 140085, 21: 128220, 22: 116210, 23: 108156}\n"
     ]
    },
    {
     "name": "stderr",
     "output_type": "stream",
     "text": [
      "\n"
     ]
    }
   ],
   "source": [
    "df4 = list(df['time'])\n",
    "\n",
    "count_tmp = {}\n",
    "\n",
    "for x in tqdm(df4):\n",
    "  a = x.hour\n",
    "  if(a in count_tmp):\n",
    "    count_tmp[a] += 1\n",
    "  else:\n",
    "    count_tmp[a] = 1\n",
    "\n",
    "count_tmp = dict(sorted(count_tmp.items(), key=lambda x: int(x[0])))\n",
    "\n",
    "print('\\n',count_tmp)"
   ]
  },
  {
   "cell_type": "code",
   "execution_count": 24,
   "id": "0d3155a9-2c75-4647-8c14-77af4eb57404",
   "metadata": {},
   "outputs": [
    {
     "name": "stderr",
     "output_type": "stream",
     "text": [
      "100%|████████████████████████████████████████████████████████████████████████████████████████████████████████████████████████████████████████████████████████████████████████████████████████████████████████████████████████████| 2354775/2354775 [00:01<00:00, 1980123.90it/s]"
     ]
    },
    {
     "name": "stdout",
     "output_type": "stream",
     "text": [
      "\n",
      " {0: 53010, 1: 48612, 2: 48832, 3: 48423, 4: 49369, 5: 53432, 6: 58815, 7: 70532, 8: 75994, 9: 80708, 10: 84192, 11: 95937, 12: 108504, 13: 125787, 14: 137244, 15: 140983, 16: 144044, 17: 145555, 18: 149642, 19: 142489, 20: 140085, 21: 128220, 22: 116210, 23: 108156}\n"
     ]
    },
    {
     "name": "stderr",
     "output_type": "stream",
     "text": [
      "\n"
     ]
    }
   ],
   "source": [
    "df4 = list(df['time'])\n",
    "\n",
    "count_tmp = {}\n",
    "\n",
    "for x in tqdm(df4):\n",
    "  a = x.hour\n",
    "  if(a in count_tmp):\n",
    "    count_tmp[a] += 1\n",
    "  else:\n",
    "    count_tmp[a] = 1\n",
    "\n",
    "count_tmp = dict(sorted(count_tmp.items(), key=lambda x: int(x[0])))\n",
    "\n",
    "print('\\n',count_tmp)"
   ]
  },
  {
   "cell_type": "markdown",
   "id": "2da982ce-4385-4505-9614-01f6206334dd",
   "metadata": {},
   "source": [
    "### Tweet / day of month"
   ]
  },
  {
   "cell_type": "code",
   "execution_count": 25,
   "id": "0cbff657-57e0-4745-a940-52ddb6f40a59",
   "metadata": {},
   "outputs": [],
   "source": [
    "def count_tweet(df):\n",
    "    count_tmp = {}\n",
    "\n",
    "    for x in tqdm(df):\n",
    "        if(x in count_tmp):\n",
    "          count_tmp[x] += 1\n",
    "        else:\n",
    "          count_tmp[x] = 1\n",
    "\n",
    "    count_tmp = dict(sorted(count_tmp.items(), key=lambda x: int(x[0])))\n",
    "\n",
    "    return count_tmp"
   ]
  },
  {
   "cell_type": "code",
   "execution_count": 26,
   "id": "3e1e90e6-1c5c-499e-8377-7797ec03c360",
   "metadata": {},
   "outputs": [
    {
     "name": "stderr",
     "output_type": "stream",
     "text": [
      "100%|████████████████████████████████████████████████████████████████████████████████████████████████████████████████████████████████████████████████████████████████████████████████████████████████████████████████████████████| 2354775/2354775 [00:00<00:00, 2935616.86it/s]"
     ]
    },
    {
     "name": "stdout",
     "output_type": "stream",
     "text": [
      "{1: 49447, 2: 55561, 3: 42465, 4: 32162, 5: 39597, 6: 40974, 7: 41728, 8: 33411, 9: 83967, 10: 58890, 11: 60823, 12: 105260, 13: 97019, 14: 99883, 15: 131081, 16: 95704, 17: 76712, 18: 128106, 19: 139643, 20: 87279, 21: 128632, 22: 136292, 23: 93434, 24: 76985, 25: 77851, 26: 91829, 27: 38293, 28: 50124, 29: 71059, 30: 66730, 31: 23834}\n"
     ]
    },
    {
     "name": "stderr",
     "output_type": "stream",
     "text": [
      "\n"
     ]
    }
   ],
   "source": [
    "df2 = list(df['day'])\n",
    "count_tmp2 = count_tweet(df2)\n",
    "print(count_tmp2)"
   ]
  },
  {
   "cell_type": "code",
   "execution_count": 27,
   "id": "27d3d766-ec96-4326-baa4-67250cc7c55d",
   "metadata": {},
   "outputs": [
    {
     "name": "stderr",
     "output_type": "stream",
     "text": [
      "100%|████████████████████████████████████████████████████████████████████████████████████████████████████████████████████████████████████████████████████████████████████████████████████████████████████████████████████████████| 1007571/1007571 [00:00<00:00, 2740958.45it/s]"
     ]
    },
    {
     "name": "stdout",
     "output_type": "stream",
     "text": [
      "{1: 297, 2: 9047, 3: 13063, 4: 25624, 5: 39509, 6: 34603, 7: 10467, 8: 22037, 9: 31132, 10: 15725, 11: 14257, 12: 23153, 13: 1387, 14: 9063, 15: 17749, 16: 17056, 17: 35796, 18: 66064, 19: 94969, 20: 58656, 21: 69574, 22: 70080, 23: 63847, 24: 34907, 25: 49892, 26: 64878, 27: 20555, 28: 30324, 29: 31825, 30: 31862, 31: 173}\n"
     ]
    },
    {
     "name": "stderr",
     "output_type": "stream",
     "text": [
      "\n"
     ]
    }
   ],
   "source": [
    "df212 = list(df21['day'])\n",
    "count_tmp212 = count_tweet(df212)\n",
    "print(count_tmp212)"
   ]
  },
  {
   "cell_type": "code",
   "execution_count": 32,
   "id": "a654eb45-66b9-4391-82d7-878f48c1d91e",
   "metadata": {},
   "outputs": [
    {
     "name": "stderr",
     "output_type": "stream",
     "text": [
      "100%|████████████████████████████████████████████████████████████████████████████████████████████████████████████████████████████████████████████████████████████████████████████████████████████████████████████████████████████| 1314380/1314380 [00:00<00:00, 2726366.47it/s]"
     ]
    },
    {
     "name": "stdout",
     "output_type": "stream",
     "text": [
      "{1: 49148, 2: 46512, 3: 29401, 4: 6533, 6: 3980, 7: 19721, 8: 9116, 9: 38054, 10: 42930, 11: 46199, 12: 80988, 13: 95630, 14: 90820, 15: 113331, 16: 78646, 17: 40914, 18: 62041, 19: 44671, 20: 28621, 21: 59057, 22: 66210, 23: 29585, 24: 42075, 25: 27957, 26: 26948, 27: 17736, 28: 19798, 29: 39233, 30: 34866, 31: 23659}\n"
     ]
    },
    {
     "name": "stderr",
     "output_type": "stream",
     "text": [
      "\n"
     ]
    }
   ],
   "source": [
    "df222 = list(df22['day'])\n",
    "count_tmp222 = count_tweet(df222)\n",
    "print(count_tmp222)"
   ]
  },
  {
   "cell_type": "code",
   "execution_count": 33,
   "id": "46d916fe-0724-4b65-a057-685b96579662",
   "metadata": {},
   "outputs": [
    {
     "name": "stderr",
     "output_type": "stream",
     "text": [
      "100%|████████████████████████████████████████████████████████████████████████████████████████████████████████████████████████████████████████████████████████████████████████████████████████████████████████████████████████████████| 32824/32824 [00:00<00:00, 2078377.96it/s]"
     ]
    },
    {
     "name": "stdout",
     "output_type": "stream",
     "text": [
      "{1: 2, 2: 2, 3: 1, 4: 5, 5: 88, 6: 2391, 7: 11540, 8: 2258, 9: 14781, 10: 235, 11: 367, 12: 1119, 13: 2, 15: 1, 16: 2, 17: 2, 18: 1, 19: 3, 20: 2, 21: 1, 22: 2, 23: 2, 24: 3, 25: 2, 26: 3, 27: 2, 28: 2, 29: 1, 30: 2, 31: 2}\n"
     ]
    },
    {
     "name": "stderr",
     "output_type": "stream",
     "text": [
      "\n"
     ]
    }
   ],
   "source": [
    "df232 = list(df23['day'])\n",
    "count_tmp232 = count_tweet(df232)\n",
    "print(count_tmp232)"
   ]
  },
  {
   "cell_type": "code",
   "execution_count": 34,
   "id": "9aa0f705-fd39-41b8-bbaa-dcf4dcef6281",
   "metadata": {},
   "outputs": [
    {
     "data": {
      "image/png": "[encoded data removed]",
      "text/plain": [
       "<Figure size 720x360 with 1 Axes>"
      ]
     },
     "metadata": {
      "needs_background": "light"
     },
     "output_type": "display_data"
    }
   ],
   "source": [
    "plt.figure(figsize=(10,5))\n",
    "pd.Series(count_tmp2).plot(kind = 'bar')\n",
    "plt.xticks(rotation=0, fontsize = 'x-large')\n",
    "plt.xlabel('Date',fontsize = 'x-large')\n",
    "plt.xlabel('Date')\n",
    "plt.ylabel('Num of tweet', labelpad=10 )\n",
    "plt.title('Num of tweet / day of month')\n",
    "plt.show()"
   ]
  },
  {
   "cell_type": "code",
   "execution_count": 35,
   "id": "a9e8234d-27b7-4695-a1da-49d0edeb5f59",
   "metadata": {},
   "outputs": [
    {
     "data": {
      "image/png": "[encoded data removed]",
      "text/plain": [
       "<Figure size 720x360 with 1 Axes>"
      ]
     },
     "metadata": {
      "needs_background": "light"
     },
     "output_type": "display_data"
    }
   ],
   "source": [
    "plt.figure(figsize=(10,5))\n",
    "pd.Series(count_tmp2).plot(kind = 'bar')\n",
    "plt.xticks(rotation=0, fontsize = 'x-large')\n",
    "plt.xlabel('Date',fontsize = 'x-large')\n",
    "plt.xlabel('Date')\n",
    "plt.ylabel('Num of tweet', labelpad=10 )\n",
    "plt.title('Num of tweet / day of month')\n",
    "plt.show()"
   ]
  },
  {
   "cell_type": "code",
   "execution_count": 36,
   "id": "87fff1eb-d0fd-4dd8-b35c-b279b60fb27a",
   "metadata": {},
   "outputs": [
    {
     "data": {
      "image/png": "[encoded data removed]",
      "text/plain": [
       "<Figure size 720x360 with 1 Axes>"
      ]
     },
     "metadata": {
      "needs_background": "light"
     },
     "output_type": "display_data"
    }
   ],
   "source": [
    "plt.figure(figsize=(10,5))\n",
    "pd.Series(count_tmp222).plot(kind = 'bar')\n",
    "plt.xticks(rotation=0, fontsize = 'x-large')\n",
    "plt.xlabel('Date',fontsize = 'x-large')\n",
    "plt.xlabel('Date')\n",
    "plt.ylabel('Num of tweet', labelpad=10 )\n",
    "plt.title('Num of tweet / day of month (2022)')\n",
    "plt.show()"
   ]
  },
  {
   "cell_type": "markdown",
   "id": "0e12b37c-5b69-4325-b2d7-3eb4a4b0763d",
   "metadata": {},
   "source": [
    "### tweet / date of year"
   ]
  },
  {
   "cell_type": "code",
   "execution_count": 37,
   "id": "f355f103-e1d7-4788-abfa-5005590cdb0f",
   "metadata": {},
   "outputs": [],
   "source": [
    "df['day-month'] = df['day'].astype(str) + '-' + df['month'].astype(str)"
   ]
  },
  {
   "cell_type": "code",
   "execution_count": 38,
   "id": "e52519c5-e30a-48e9-a596-554e68eab215",
   "metadata": {},
   "outputs": [],
   "source": [
    "from datetime import datetime"
   ]
  },
  {
   "cell_type": "code",
   "execution_count": 39,
   "id": "2258976b-6052-4605-a2aa-bebd1b6798c4",
   "metadata": {},
   "outputs": [
    {
     "name": "stderr",
     "output_type": "stream",
     "text": [
      "100%|████████████████████████████████████████████████████████████████████████████████████████████████████████████████████████████████████████████████████████████████████████████████████████████████████████████████████████████| 2354775/2354775 [00:01<00:00, 2066019.68it/s]"
     ]
    },
    {
     "name": "stdout",
     "output_type": "stream",
     "text": [
      "{'1-1': 90, '2-1': 87, '3-1': 86, '4-1': 92, '5-1': 86, '6-1': 2335, '7-1': 11477, '8-1': 2177, '9-1': 14692, '10-1': 87, '11-1': 5920, '12-1': 21307, '13-1': 21579, '14-1': 15083, '15-1': 90, '16-1': 92, '17-1': 89, '18-1': 91, '19-1': 1969, '20-1': 11200, '21-1': 17970, '22-1': 35865, '23-1': 85, '24-1': 90, '25-1': 91, '26-1': 87, '27-1': 86, '28-1': 90, '29-1': 91, '30-1': 91, '31-1': 88, '1-2': 83, '2-2': 66, '3-2': 92, '4-2': 92, '5-2': 959, '6-2': 1740, '7-2': 1624, '8-2': 2883, '9-2': 14995, '10-2': 1862, '11-2': 90, '12-2': 90, '13-2': 1209, '14-2': 4766, '15-2': 6882, '16-2': 1832, '17-2': 9310, '18-2': 10461, '19-2': 2349, '20-2': 91, '21-2': 83, '22-2': 1909, '23-2': 3, '24-2': 93, '25-2': 90, '26-2': 86, '27-2': 87, '28-2': 907, '1-3': 85, '2-3': 4238, '3-3': 88, '4-3': 88, '5-3': 87, '6-3': 4039, '7-3': 11978, '8-3': 2797, '9-3': 7935, '10-3': 16601, '11-3': 189, '12-3': 1974, '13-3': 88, '14-3': 1862, '15-3': 15833, '16-3': 21646, '17-3': 11671, '18-3': 10553, '19-3': 8461, '20-3': 9201, '21-3': 14300, '22-3': 116, '23-3': 13047, '24-3': 26744, '25-3': 89, '26-3': 85, '27-3': 80, '28-3': 84, '29-3': 86, '30-3': 90, '31-3': 85, '1-4': 39, '5-4': 1123, '6-4': 1879, '7-4': 2025, '8-4': 1904, '9-4': 1739, '10-4': 1994, '11-4': 1024, '12-4': 964, '13-4': 9111, '14-4': 13963, '15-4': 20140, '16-4': 22334, '17-4': 4592, '18-4': 29128, '19-4': 29463, '20-4': 7669, '21-4': 17182, '22-4': 22876, '23-4': 2938, '24-4': 2004, '27-4': 1051, '28-4': 12587, '29-4': 11384, '30-4': 18520, '1-5': 23082, '2-5': 18604, '10-5': 6935, '11-5': 9241, '12-5': 22179, '13-5': 21124, '22-5': 10056, '23-5': 2473, '24-5': 9575, '25-5': 8327, '26-5': 13185, '27-5': 9017, '28-5': 5047, '29-5': 10752, '30-5': 9336, '31-5': 9686, '1-6': 11713, '2-6': 5447, '3-6': 15113, '4-6': 3402, '14-6': 8315, '15-6': 28288, '17-6': 8710, '18-6': 15615, '19-6': 7032, '20-6': 4449, '21-6': 21019, '22-6': 22829, '23-6': 28656, '24-6': 2706, '25-6': 12499, '26-6': 15956, '28-6': 4770, '29-6': 19334, '2-7': 12702, '3-7': 19846, '4-7': 11517, '5-7': 13015, '11-7': 3514, '12-7': 9112, '13-7': 16574, '14-7': 18331, '15-7': 16570, '16-7': 15460, '17-7': 14504, '18-7': 13136, '19-7': 14433, '20-7': 15462, '21-7': 19339, '22-7': 15369, '23-7': 21478, '24-7': 16035, '25-7': 5722, '26-7': 13700, '27-7': 7002, '28-7': 7834, '29-7': 9558, '30-7': 19245, '4-8': 880, '5-8': 6450, '6-8': 7996, '7-8': 6643, '8-8': 17076, '9-8': 26977, '14-8': 6786, '15-8': 15124, '16-8': 16250, '17-8': 17636, '18-8': 19186, '19-8': 17215, '20-8': 19589, '21-8': 5473, '23-8': 5295, '24-8': 13426, '25-8': 23696, '26-8': 19644, '30-8': 7010, '31-8': 13973, '1-9': 14353, '2-9': 14415, '3-9': 7239, '4-9': 3131, '5-9': 1, '8-9': 2, '10-9': 11696, '11-9': 4985, '12-9': 14440, '13-9': 15066, '14-9': 17581, '15-9': 1, '16-9': 1, '17-9': 1, '18-9': 1, '20-9': 1, '21-9': 1, '22-9': 1, '23-9': 1, '24-9': 2, '25-9': 1, '26-9': 1, '27-9': 1, '28-9': 1, '30-9': 1, '1-10': 1, '4-10': 1, '5-10': 3, '7-10': 1, '8-10': 4, '9-10': 4864, '10-10': 12898, '11-10': 13324, '12-10': 14042, '13-10': 9076, '14-10': 6512, '15-10': 12452, '16-10': 1, '17-10': 1, '18-10': 11520, '19-10': 31573, '20-10': 16686, '21-10': 21286, '22-10': 27271, '23-10': 19458, '24-10': 1, '25-10': 1, '26-10': 1, '27-10': 11049, '28-10': 18804, '29-10': 17928, '30-10': 1, '31-10': 2, '1-11': 1, '2-11': 2, '3-11': 1, '4-11': 12959, '5-11': 17873, '6-11': 22985, '7-11': 7980, '8-11': 6568, '9-11': 12765, '10-11': 6817, '11-11': 19533, '12-11': 21152, '13-11': 3192, '14-11': 6684, '15-11': 15701, '16-11': 18088, '18-11': 18415, '19-11': 27148, '20-11': 2931, '21-11': 11979, '24-11': 3168, '25-11': 18841, '26-11': 28805, '11-12': 3003, '17-12': 10198, '24-12': 3141, '25-12': 8494, '26-12': 279, '27-12': 9920, '29-12': 1926, '30-12': 12436}\n"
     ]
    },
    {
     "name": "stderr",
     "output_type": "stream",
     "text": [
      "\n"
     ]
    }
   ],
   "source": [
    "df4 = list(df['day-month'])\n",
    "count_tmp3 = {}\n",
    "for x in tqdm(df4):\n",
    "  if(x in count_tmp3):\n",
    "    count_tmp3[x] += 1\n",
    "  else:\n",
    "    count_tmp3[x] = 1\n",
    "count_tmp3 = dict(sorted(count_tmp3.items(), key=lambda x: datetime.strptime(x[0], \"%d-%m\")))\n",
    "print(count_tmp3)"
   ]
  },
  {
   "cell_type": "code",
   "execution_count": 40,
   "id": "1566e8bd-49b0-453a-8798-47cae15a6e6d",
   "metadata": {},
   "outputs": [
    {
     "data": {
      "image/png": "[encoded data removed]",
      "text/plain": [
       "<Figure size 3600x720 with 1 Axes>"
      ]
     },
     "metadata": {
      "needs_background": "light"
     },
     "output_type": "display_data"
    }
   ],
   "source": [
    "plt.figure(figsize=(50,10))\n",
    "pd.Series(count_tmp3).plot(kind = 'bar')\n",
    "plt.xticks(rotation=0, fontsize = '6')\n",
    "plt.xlabel('Date',fontsize = '30')\n",
    "plt.xlabel('Date')\n",
    "plt.ylabel('Num of tweet', labelpad=10, fontsize = '30' )\n",
    "plt.title('Num of tweet / day of year', fontsize = '30')\n",
    "plt.show()"
   ]
  },
  {
   "cell_type": "markdown",
   "id": "f9a7398b-d096-4220-8947-885beadaffcc",
   "metadata": {},
   "source": [
    "### tweet / month"
   ]
  },
  {
   "cell_type": "code",
   "execution_count": 41,
   "id": "81268c7e-4816-4993-8cd2-3d2329ae71d1",
   "metadata": {},
   "outputs": [
    {
     "name": "stderr",
     "output_type": "stream",
     "text": [
      "100%|████████████████████████████████████████████████████████████████████████████████████████████████████████████████████████████████████████████████████████████████████████████████████████████████████████████████████████████| 2354775/2354775 [00:00<00:00, 2880316.35it/s]"
     ]
    },
    {
     "name": "stdout",
     "output_type": "stream",
     "text": [
      "{1: 163263, 2: 64734, 3: 184220, 4: 237633, 5: 188619, 6: 235853, 7: 329458, 8: 266325, 9: 102924, 10: 248761, 11: 283588, 12: 49397}\n"
     ]
    },
    {
     "name": "stderr",
     "output_type": "stream",
     "text": [
      "\n"
     ]
    }
   ],
   "source": [
    "df5 = list(df['month'])\n",
    "count_tmp4 = count_tweet(df5)\n",
    "print(count_tmp4)"
   ]
  },
  {
   "cell_type": "code",
   "execution_count": 42,
   "id": "8efa27c4-0d82-4d5b-9f1a-484d0845f6fb",
   "metadata": {},
   "outputs": [
    {
     "name": "stderr",
     "output_type": "stream",
     "text": [
      "100%|████████████████████████████████████████████████████████████████████████████████████████████████████████████████████████████████████████████████████████████████████████████████████████████████████████████████████████████| 1007571/1007571 [00:00<00:00, 2618247.98it/s]\n",
      "100%|████████████████████████████████████████████████████████████████████████████████████████████████████████████████████████████████████████████████████████████████████████████████████████████████████████████████████████████| 1314380/1314380 [00:00<00:00, 2889562.33it/s]\n",
      "100%|████████████████████████████████████████████████████████████████████████████████████████████████████████████████████████████████████████████████████████████████████████████████████████████████████████████████████████████████| 32824/32824 [00:00<00:00, 2388139.16it/s]\n"
     ]
    }
   ],
   "source": [
    "df215 = list(df21['month'])\n",
    "count_tmp214 = count_tweet(df215)\n",
    "\n",
    "df225 = list(df22['month'])\n",
    "count_tmp224 = count_tweet(df225)\n",
    "\n",
    "df235 = list(df23['month'])\n",
    "count_tmp234 = count_tweet(df235)"
   ]
  },
  {
   "cell_type": "code",
   "execution_count": 43,
   "id": "5c27966a-c7a2-4d2a-b80a-370c5f022f8c",
   "metadata": {},
   "outputs": [
    {
     "data": {
      "image/png": "[encoded data removed]",
      "text/plain": [
       "<Figure size 720x360 with 1 Axes>"
      ]
     },
     "metadata": {
      "needs_background": "light"
     },
     "output_type": "display_data"
    }
   ],
   "source": [
    "plt.figure(figsize=(10,5))\n",
    "pd.Series(count_tmp4).plot(kind = 'bar')\n",
    "plt.xticks(rotation=0, fontsize = 'x-large')\n",
    "plt.xlabel('Month',fontsize = 'x-large')\n",
    "plt.ylabel('Num of tweet', labelpad=10 )\n",
    "plt.title('Num of tweet / month')\n",
    "plt.show()"
   ]
  },
  {
   "cell_type": "code",
   "execution_count": 44,
   "id": "fa8b9a5f-f9e6-4233-82a4-3662e9b792cf",
   "metadata": {},
   "outputs": [
    {
     "data": {
      "image/png": "[encoded data removed]",
      "text/plain": [
       "<Figure size 720x360 with 1 Axes>"
      ]
     },
     "metadata": {
      "needs_background": "light"
     },
     "output_type": "display_data"
    }
   ],
   "source": [
    "plt.figure(figsize=(10,5))\n",
    "pd.Series(count_tmp214).plot(kind = 'bar')\n",
    "plt.xticks(rotation=0, fontsize = 'x-large')\n",
    "plt.xlabel('Month',fontsize = 'x-large')\n",
    "plt.ylabel('Num of tweet', labelpad=10 )\n",
    "plt.title('Num of tweet / month (2021)')\n",
    "plt.show()"
   ]
  },
  {
   "cell_type": "code",
   "execution_count": 45,
   "id": "e553f36c-5c57-43fe-a8c6-5258c49e4bac",
   "metadata": {},
   "outputs": [
    {
     "data": {
      "image/png": "[encoded data removed]",
      "text/plain": [
       "<Figure size 720x360 with 1 Axes>"
      ]
     },
     "metadata": {
      "needs_background": "light"
     },
     "output_type": "display_data"
    }
   ],
   "source": [
    "plt.figure(figsize=(10,5))\n",
    "pd.Series(count_tmp224).plot(kind = 'bar')\n",
    "plt.xticks(rotation=0, fontsize = 'x-large')\n",
    "plt.xlabel('Month',fontsize = 'x-large')\n",
    "plt.ylabel('Num of tweet', labelpad=10 )\n",
    "plt.title('Num of tweet / month (2022)')\n",
    "plt.show()"
   ]
  },
  {
   "cell_type": "code",
   "execution_count": null,
   "id": "d9774ac6-8803-4421-a3b1-c58d27bfd21b",
   "metadata": {},
   "outputs": [],
   "source": []
  },
  {
   "cell_type": "code",
   "execution_count": null,
   "id": "2667d9d0-ed3a-488b-a996-44dad547ed98",
   "metadata": {},
   "outputs": [],
   "source": []
  }
 ],
 "metadata": {
  "kernelspec": {
   "display_name": "Python 3 (ipykernel)",
   "language": "python",
   "name": "python3"
  },
  "language_info": {
   "codemirror_mode": {
    "name": "ipython",
    "version": 3
   },
   "file_extension": ".py",
   "mimetype": "text/x-python",
   "name": "python",
   "nbconvert_exporter": "python",
   "pygments_lexer": "ipython3",
   "version": "3.9.12"
  }
 },
 "nbformat": 4,
 "nbformat_minor": 5
}
